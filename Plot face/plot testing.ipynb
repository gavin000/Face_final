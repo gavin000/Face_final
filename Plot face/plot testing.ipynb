{
 "cells": [
  {
   "cell_type": "code",
   "execution_count": 1,
   "metadata": {},
   "outputs": [],
   "source": [
    "import pandas as pd\n",
    "from pandas import ExcelWriter\n",
    "from pandas import ExcelFile\n",
    "import numpy\n",
    "import matplotlib.pyplot as plt"
   ]
  },
  {
   "cell_type": "code",
   "execution_count": 2,
   "metadata": {},
   "outputs": [
    {
     "name": "stdout",
     "output_type": "stream",
     "text": [
      "bottom_lip: [(141, 91), (135, 95), (130, 96), (126, 96), (122, 95), (118, 93), (113, 88), (115, 89), (123, 92), (126, 93), (130, 93), (139, 91)]\n",
      "chin: [(94, 65), (94, 74), (95, 83), (95, 91), (99, 99), (104, 106), (111, 111), (119, 116), (127, 118), (136, 117), (144, 113), (152, 108), (159, 101), (163, 93), (163, 83), (164, 73), (164, 64)]\n",
      "left_eye: [(109, 60), (112, 59), (116, 58), (120, 60), (116, 61), (112, 61)]\n",
      "left_eyebrow: [(100, 58), (103, 52), (109, 49), (116, 48), (122, 51)]\n",
      "nose_bridge: [(128, 58), (128, 63), (128, 69), (128, 74)]\n",
      "nose_tip: [(121, 78), (125, 80), (128, 81), (132, 80), (135, 79)]\n",
      "right_eye: [(136, 60), (141, 58), (145, 58), (149, 60), (145, 61), (141, 61)]\n",
      "right_eyebrow: [(133, 50), (140, 48), (147, 48), (153, 51), (157, 56)]\n",
      "top_lip: [(113, 88), (118, 87), (123, 87), (127, 88), (131, 87), (136, 89), (141, 91), (139, 91), (131, 89), (127, 89), (123, 88), (115, 89)]\n"
     ]
    }
   ],
   "source": [
    "workbook = 'face_landmarks.xlsx'\n",
    "\n",
    "df = pd.read_excel(workbook)\n",
    "column_list = df.columns\n",
    "\n",
    "for column in column_list:\n",
    "    print(f\"{column}: {df.iloc[0][column]}\")\n",
    "    #print(column)\n",
    "    \n",
    "#df.iloc[0]['bottom_lip']\n"
   ]
  },
  {
   "cell_type": "code",
   "execution_count": 3,
   "metadata": {},
   "outputs": [
    {
     "name": "stdout",
     "output_type": "stream",
     "text": [
      "bottom_lip    [(141, 91), (135, 95), (130, 96), (126, 96), (...\n",
      "Name: 0, dtype: object\n"
     ]
    }
   ],
   "source": [
    "A = df.iloc[0].head(1)\n",
    "df.iloc[0].head(2)\n",
    "df.iloc[0].head(3)\n",
    "df.iloc[0].head(4)\n",
    "df.iloc[0].head(5)\n",
    "df.iloc[0].head(6)\n",
    "df.iloc[0].head(7)\n",
    "df.iloc[0].head(8)\n",
    "df.iloc[0].head(9)\n",
    "\n",
    "print(A)"
   ]
  },
  {
   "cell_type": "code",
   "execution_count": 4,
   "metadata": {},
   "outputs": [
    {
     "data": {
      "text/plain": [
       "bottom_lip    [(141, 91), (135, 95), (130, 96), (126, 96), (...\n",
       "Name: 0, dtype: object"
      ]
     },
     "execution_count": 4,
     "metadata": {},
     "output_type": "execute_result"
    }
   ],
   "source": [
    "A\n"
   ]
  },
  {
   "cell_type": "code",
   "execution_count": 5,
   "metadata": {},
   "outputs": [
    {
     "name": "stdout",
     "output_type": "stream",
     "text": [
      "SAME LENGTH LIST\n"
     ]
    }
   ],
   "source": [
    "coordinate_list = df.iloc[0]['bottom_lip'].replace('[','').replace(']','').replace('(','').replace(')','').replace(' ','').split(',')\n",
    "coordinate_list\n",
    "\n",
    "x_coordinates = coordinate_list[::2]\n",
    "x_coordinates\n",
    "\n",
    "y_coordinates = coordinate_list[1::2]\n",
    "y_coordinates\n",
    "\n",
    "if len(x_coordinates) == len(y_coordinates):\n",
    "    print(\"SAME LENGTH LIST\")"
   ]
  },
  {
   "cell_type": "code",
   "execution_count": 11,
   "metadata": {},
   "outputs": [
    {
     "data": {
      "image/png": "[encoded data removed]",
      "text/plain": [
       "<Figure size 1440x720 with 1 Axes>"
      ]
     },
     "metadata": {},
     "output_type": "display_data"
    }
   ],
   "source": [
    "column_list = df.columns\n",
    "\n",
    "plt.figure(figsize=(20,10))\n",
    "plt.xlim((70,200))\n",
    "\n",
    "for n in range(1):\n",
    "    for column in column_list:\n",
    "        coordinate_list = df.iloc[n][column].replace('[','').replace(']','').replace('(','').replace(')','').replace(' ','').split(',')\n",
    "        #print(f\"{column}: {coordinate_list}\")\n",
    "\n",
    "        x_coordinates = coordinate_list[::2]\n",
    "        #print(f\"  X-Axis-STRING: {x_coordinates}\")\n",
    "\n",
    "        y_coordinates = coordinate_list[1::2]\n",
    "        #print(f\"  Y-Axis-STRING: {y_coordinates}\")\n",
    "    \n",
    "        #if len(x_coordinates) == len(y_coordinates):\n",
    "            #print(\"SAME LENGTH LIST\")\n",
    "    \n",
    "        x_coordinates_int = list(map(int, x_coordinates))\n",
    "        y_coordinates_int = list(map(int, y_coordinates))\n",
    "        \n",
    "        x_coordinates_int.sort()\n",
    "        #print(len(x_coordinates_int))\n",
    "        #print(f\"  X-Axis-INT: {x_coordinates_int}\")\n",
    "        y_coordinates.sort()\n",
    "        #print(f\"  Y-Axis-INT: {y_coordinates_int}\")\n",
    "    \n",
    "        plt.scatter(x_coordinates_int, y_coordinates_int)\n",
    "plt.savefig('1.png')\n",
    "#     for i in range(len(x_coordinates)):\n",
    "#         print(x_coordinates[i], y_coordinates[i])\n",
    "        \n",
    "#         plt.scatter(x_coordinates[i], y_coordinates[i])\n",
    "        \n",
    "#     coordinates = df.iloc[0][column]\n",
    "#     list_coordinates = coordinates.split(',')\n",
    "#     print(f\"{column}: {coordinates}\")\n",
    "#     print(type(coordinates))\n",
    "#     print(coordinates[3])"
   ]
  },
  {
   "cell_type": "code",
   "execution_count": 47,
   "metadata": {},
   "outputs": [
    {
     "data": {
      "text/plain": [
       "<matplotlib.collections.PathCollection at 0x21712929fd0>"
      ]
     },
     "execution_count": 47,
     "metadata": {},
     "output_type": "execute_result"
    },
    {
     "data": {
      "image/png": "[encoded data removed]",
      "text/plain": [
       "<Figure size 432x288 with 1 Axes>"
      ]
     },
     "metadata": {},
     "output_type": "display_data"
    }
   ],
   "source": [
    "plt.scatter(141,91)\n",
    "plt.scatter(135,95)\n",
    "plt.scatter(130,96)\n"
   ]
  },
  {
   "cell_type": "code",
   "execution_count": 26,
   "metadata": {},
   "outputs": [
    {
     "ename": "ValueError",
     "evalue": "too many values to unpack (expected 2)",
     "output_type": "error",
     "traceback": [
      "\u001b[1;31m---------------------------------------------------------------------------\u001b[0m",
      "\u001b[1;31mValueError\u001b[0m                                Traceback (most recent call last)",
      "\u001b[1;32m<ipython-input-26-242745588c9a>\u001b[0m in \u001b[0;36m<module>\u001b[1;34m()\u001b[0m\n\u001b[1;32m----> 1\u001b[1;33m \u001b[1;32mfor\u001b[0m \u001b[0mi\u001b[0m\u001b[1;33m,\u001b[0m\u001b[0mj\u001b[0m \u001b[1;32min\u001b[0m \u001b[0mA\u001b[0m\u001b[1;33m:\u001b[0m\u001b[1;33m\u001b[0m\u001b[0m\n\u001b[0m\u001b[0;32m      2\u001b[0m     \u001b[0mplt\u001b[0m\u001b[1;33m.\u001b[0m\u001b[0mscatter\u001b[0m\u001b[1;33m(\u001b[0m\u001b[0mi\u001b[0m\u001b[1;33m,\u001b[0m\u001b[0mj\u001b[0m\u001b[1;33m)\u001b[0m\u001b[1;33m\u001b[0m\u001b[0m\n",
      "\u001b[1;31mValueError\u001b[0m: too many values to unpack (expected 2)"
     ]
    }
   ],
   "source": []
  },
  {
   "cell_type": "code",
   "execution_count": null,
   "metadata": {},
   "outputs": [],
   "source": []
  },
  {
   "cell_type": "code",
   "execution_count": null,
   "metadata": {},
   "outputs": [],
   "source": []
  },
  {
   "cell_type": "code",
   "execution_count": null,
   "metadata": {},
   "outputs": [],
   "source": []
  }
 ],
 "metadata": {
  "kernelspec": {
   "display_name": "Python 3",
   "language": "python",
   "name": "python3"
  },
  "language_info": {
   "codemirror_mode": {
    "name": "ipython",
    "version": 3
   },
   "file_extension": ".py",
   "mimetype": "text/x-python",
   "name": "python",
   "nbconvert_exporter": "python",
   "pygments_lexer": "ipython3",
   "version": "3.6.5"
  }
 },
 "nbformat": 4,
 "nbformat_minor": 2
}
